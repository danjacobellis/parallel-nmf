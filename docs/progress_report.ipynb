{
 "cells": [
  {
   "cell_type": "markdown",
   "metadata": {},
   "source": [
    "# Nonnegative Matrix Factorisation\n",
    "#### Dan Jacobellis\n",
    "#### Tyler Masthay\n",
    "#### CSE 392 - Parallel Algorithms\n",
    "#### Progress Report\n",
    "\n",
    "## Overview of completed work\n",
    "- Implemented the multiplicative update NMF algorithm on a GPU using Julia bindings to CUDA. \n",
    "- Performing timing benchmarks for two recordings, one monophonic and one polyphonic.\n",
    "  - Measured runtime as function of number of components and number of iterations.\n",
    "    - Increasing the number of components follows expected scaling up to 128 components\n",
    "    - Using more than 128 components (for a frame size of 40000) appears to alter the scaling.\n",
    "    - Probably caused by mismatch of GPU cache size and with matrix size\n",
    "- Examined required number of iterations for acceptable transcription\n",
    "\n",
    "## TODO\n",
    "- Test performance as function of frame size\n",
    "- compare performance with MATLAB and sci-kit learn implementations\n",
    "- Try using nvidia profiler (nvprof) to find ways to improve performance"
   ]
  }
 ],
 "metadata": {
  "cite2c": {
   "citations": {
    "6577090/ECGX8X6T": {
     "ISBN": "978-3-319-73030-1",
     "editor": [
      {
       "family": "Makino",
       "given": "Shoji"
      }
     ],
     "event-place": "New York, NY",
     "id": "6577090/ECGX8X6T",
     "issued": {
      "year": 2018
     },
     "publisher": "Springer Berlin Heidelberg",
     "publisher-place": "New York, NY",
     "title": "Audio source separation",
     "type": "book"
    }
   }
  },
  "kernelspec": {
   "display_name": "Python 3",
   "language": "python",
   "name": "python3"
  },
  "language_info": {
   "codemirror_mode": {
    "name": "ipython",
    "version": 3
   },
   "file_extension": ".py",
   "mimetype": "text/x-python",
   "name": "python",
   "nbconvert_exporter": "python",
   "pygments_lexer": "ipython3",
   "version": "3.6.7"
  }
 },
 "nbformat": 4,
 "nbformat_minor": 2
}
