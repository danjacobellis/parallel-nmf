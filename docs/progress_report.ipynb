{
 "cells": [
  {
   "cell_type": "markdown",
   "metadata": {},
   "source": [
    "# Nonnegative Matrix Factorisation\n",
    "#### Dan Jacobellis, Tyler Masthay\n",
    "\n",
    "### Completed work\n",
    "- Implemented the multiplicative update NMF algorithm on a GPU using Julia bindings to CUDA. \n",
    "- Performed timing benchmarks for CPU and GPU implementation\n",
    "- Examined required number of iterations for acceptable transcription (no more than 256)\n",
    "- Used Nvidia profiler to debug an issue that was causing unnecessary memory copies between the device and host, improving runspeed by factor of 10."
   ]
  },
  {
   "cell_type": "markdown",
   "metadata": {},
   "source": [
    "### TODO\n",
    "- Test performance as function of frame size\n",
    "- compare performance with MATLAB and sci-kit learn implementations"
   ]
  },
  {
   "cell_type": "markdown",
   "metadata": {},
   "source": [
    "#### GPU\n",
    "![](runtime.png)"
   ]
  },
  {
   "cell_type": "markdown",
   "metadata": {},
   "source": [
    "#### CPU\n",
    "![](runtimeCPU.png)"
   ]
  }
 ],
 "metadata": {
  "cite2c": {
   "citations": {
    "6577090/ECGX8X6T": {
     "ISBN": "978-3-319-73030-1",
     "editor": [
      {
       "family": "Makino",
       "given": "Shoji"
      }
     ],
     "event-place": "New York, NY",
     "id": "6577090/ECGX8X6T",
     "issued": {
      "year": 2018
     },
     "publisher": "Springer Berlin Heidelberg",
     "publisher-place": "New York, NY",
     "title": "Audio source separation",
     "type": "book"
    }
   }
  },
  "kernelspec": {
   "display_name": "Python 3",
   "language": "python",
   "name": "python3"
  },
  "language_info": {
   "codemirror_mode": {
    "name": "ipython",
    "version": 3
   },
   "file_extension": ".py",
   "mimetype": "text/x-python",
   "name": "python",
   "nbconvert_exporter": "python",
   "pygments_lexer": "ipython3",
   "version": "3.6.7"
  }
 },
 "nbformat": 4,
 "nbformat_minor": 2
}
