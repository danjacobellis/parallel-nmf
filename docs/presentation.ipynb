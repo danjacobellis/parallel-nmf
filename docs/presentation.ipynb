{
 "cells": [
  {
   "cell_type": "markdown",
   "metadata": {
    "slideshow": {
     "slide_type": "slide"
    }
   },
   "source": [
    "# Nonnegative Matrix Factorisation for Audio Applications\n",
    "## Dan Jacobellis, Tyler Masthay\n",
    "![](VWH.png)"
   ]
  },
  {
   "cell_type": "markdown",
   "metadata": {
    "cell_style": "center",
    "slideshow": {
     "slide_type": "slide"
    }
   },
   "source": [
    "# GPU Performance\n",
    " ![](gpu_runtime.png)\n",
    " \n",
    " - Runtime is relatively flat as the number of components increases up to a point\n",
    " - We can't fit everying in GPU memory after the number of components reaches ~128\n",
    " - After this point, we are forced to send data between CPU and GPU *every* iteration\n",
    " - Fortunately, the behavior as a function of the audio length is well-behaved"
   ]
  }
 ],
 "metadata": {
  "celltoolbar": "Slideshow",
  "kernelspec": {
   "display_name": "Julia 1.1.0",
   "language": "julia",
   "name": "julia-1.1"
  },
  "language_info": {
   "file_extension": ".jl",
   "mimetype": "application/julia",
   "name": "julia",
   "version": "1.1.0"
  }
 },
 "nbformat": 4,
 "nbformat_minor": 2
}
