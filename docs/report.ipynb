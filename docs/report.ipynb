{
 "cells": [
  {
   "cell_type": "markdown",
   "metadata": {},
   "source": [
    "# Nonnegative Matrix Factorisation\n",
    "### Dan Jacobellis, Tyler Masthay"
   ]
  },
  {
   "cell_type": "markdown",
   "metadata": {},
   "source": [
    "## Introduction (Copied from proposal)\n",
    "Suppose we have a matrix $\\bf V$ containing nonnegative data; for example, the magnitude image of a time-frequency decomosition of an audio recording.\n",
    "\n",
    "The problem of nonnegative matrix factorisation (NMF) amounts to factorising $\\bf V$ into two factors $\\bf W$ and $\\bf H$ which are also nonnegative. That is,\n",
    "\n",
    "$$ \\bf V \\approx \\hat {\\bf V} = \\bf W \\bf H$$\n",
    "\n",
    "This technique can be used to learn recurring patterns in the data matrix. In this case, $\\bf W$ represents a learned dictionary and the $\\bf H$ represent represents the decomposition. When applied to the time-frequency decomposition of a music recording, $\\bf W$ contain the learned spectral envelopes of each instrument in the recording and $\\bf H$ contains a transcription of the music.\n",
    "\n",
    "Many variations of NMF algorithms are well-established, and several libraries are available, such as `decomposition.nmf()` in scikit-learn. For the class project, We propose implementing parallel versions of these algorithms:\n",
    "\n",
    "* To learn about NMF algorithms, which are currently an open field of research\n",
    "* To gain experience and intuition for different parallel programming models by implimenting NMF using shared memory, message passing, and GPU programming\n",
    "* To learn about implementation of iterative algorithms with high data parallelism\n",
    "* To improve upon the performance and functionality of existing NMF libraries"
   ]
  },
  {
   "cell_type": "markdown",
   "metadata": {},
   "source": [
    "## Algorithmic Approach (Copied from proposal)\n",
    "\n",
    "The most widely used algorithms for NMF employ a multiplicative weight update method based on the pioneering work of Lee and Sung [1]. The algorithm consists of the following steps:\n",
    "\n",
    "* Initialize $\\bf W$ and $\\bf H$ with non-negative values\n",
    "* Iteratively update $\\bf W$ and $\\bf H$ using the following rules: ($n$ is the iteration)\n",
    "\n",
    "$$\n",
    "{\\bf H}_{[i,j]}^{n+1}\\leftarrow \\frac\n",
    "{\\left( ({\\bf W}^{n})^\\top \\bf V \\right)_{[i,j]}}\n",
    "{\\left( ({\\bf W}^n)^\\top {\\bf W}^n {\\bf H}^n \\right)_{[i,j]}}\n",
    "$$\n",
    "\n",
    "$$\n",
    "{\\bf W}_{[i,j]}^{n+1}\\leftarrow \\frac\n",
    "{\\left( {\\bf V} ({\\bf H}^{n+1})^\\top \\right)_{[i,j]}}\n",
    "{\\left( {\\bf W}^n {\\bf H}^{n+1} ({\\bf H}^{n+1})^\\top \\right)_{[i,j]}}\n",
    "$$\n",
    "\n",
    "As a result, the sequential complexity is $O(n^2m)$, where $n$ will be fixed at 264 and $m$ will scale with the length of the recording."
   ]
  },
  {
   "cell_type": "markdown",
   "metadata": {},
   "source": [
    "## References\n",
    "\n",
    "[1\\] Lee, D.D., Seung, H.S., 2001. [Algorithms for Non-negative Matrix Factorization][1], in: Advances in Neural Information Processing Systems 13. MIT Press, pp. 556–562.\n",
    "\n",
    "[2\\] S. Makino, Ed., [Audio source separation][2]. New York, NY: Springer Berlin Heidelberg, 2018.\n",
    "\n",
    "[3\\] E. Vincent, T. Virtanen, and S. Gannot, [Audio source separation and speech enhancement][3]. 2018.\n",
    "\n",
    "[1]:http://papers.nips.cc/paper/1861-algorithms-for-non-negative-matrix-factorization.pdf\n",
    "\n",
    "[2]:http://ezproxy.lib.utexas.edu/login?url=http://link.springer.com/10.1007/978-3-319-73031-8\n",
    "\n",
    "[3]:http://ezproxy.lib.utexas.edu/login?url=https://onlinelibrary.wiley.com/doi/book/10.1002/9781119279860"
   ]
  }
 ],
 "metadata": {
  "cite2c": {
   "citations": {
    "6577090/ECGX8X6T": {
     "ISBN": "978-3-319-73030-1",
     "editor": [
      {
       "family": "Makino",
       "given": "Shoji"
      }
     ],
     "event-place": "New York, NY",
     "id": "6577090/ECGX8X6T",
     "issued": {
      "year": 2018
     },
     "publisher": "Springer Berlin Heidelberg",
     "publisher-place": "New York, NY",
     "title": "Audio source separation",
     "type": "book"
    }
   }
  },
  "kernelspec": {
   "display_name": "Python 3",
   "language": "python",
   "name": "python3"
  },
  "language_info": {
   "codemirror_mode": {
    "name": "ipython",
    "version": 3
   },
   "file_extension": ".py",
   "mimetype": "text/x-python",
   "name": "python",
   "nbconvert_exporter": "python",
   "pygments_lexer": "ipython3",
   "version": "3.6.8"
  }
 },
 "nbformat": 4,
 "nbformat_minor": 2
}
