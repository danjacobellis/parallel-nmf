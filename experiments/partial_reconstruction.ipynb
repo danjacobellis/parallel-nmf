{
 "cells": [
  {
   "cell_type": "code",
   "execution_count": 1,
   "metadata": {},
   "outputs": [],
   "source": [
    "using MAT;\n",
    "using CuArrays;\n",
    "using Plots;\n",
    "include(\"../nnmf.jl\");"
   ]
  },
  {
   "cell_type": "code",
   "execution_count": 2,
   "metadata": {},
   "outputs": [
    {
     "data": {
      "text/plain": [
       "save_reconstructed_V (generic function with 1 method)"
      ]
     },
     "execution_count": 2,
     "metadata": {},
     "output_type": "execute_result"
    }
   ],
   "source": [
    "function save_reconstructed_V(W,H,components,new_filename,cfs_filename)\n",
    "    \n",
    "    cp(cfs_filename, string(new_filename[1:end-5],\"cfs.mat\"),force=true) \n",
    "    \n",
    "    num_freq = size(W,1);\n",
    "    frame_size = size(H,2)\n",
    "    num_frames = size(W,3);\n",
    "    V_hat = Array{Any,2}(undef,num_frames,1)\n",
    "    W = W[:,components,:];\n",
    "    H = H[components,:,:];\n",
    "    for i_frame = 1:num_frames\n",
    "        V_hat[i_frame,1] = W[:,:,i_frame]*H[:,:,i_frame];\n",
    "    end\n",
    "    file = matopen(new_filename,\"w\")\n",
    "    write(file,\"V\",V_hat)\n",
    "    close(file)\n",
    "end"
   ]
  },
  {
   "cell_type": "code",
   "execution_count": 3,
   "metadata": {},
   "outputs": [],
   "source": [
    "filename = \"reconstruction/tetris_piano_mono_V.mat\";\n",
    "cfs_filename = \"reconstruction/tetris_piano_mono_cfs.mat\"\n",
    "\n",
    "comp_list = [48,256];\n",
    "comp_list = 48;\n",
    "iter_list = [128,256,512];\n",
    "iter_list = 128;\n",
    "W = Array{Any,2}(undef,length(comp_list),length(iter_list))\n",
    "H = Array{Any,2}(undef,length(comp_list),length(iter_list))\n",
    "\n",
    "for i_comp = 1:length(comp_list), i_iter = 1:length(iter_list)\n",
    "    num_components = comp_list[i_comp]; \n",
    "    num_iterations = iter_list[i_iter];\n",
    "    W[i_comp,i_iter],H[i_comp,i_iter] = nnmf(filename,num_components,num_iterations);\n",
    "end"
   ]
  },
  {
   "cell_type": "code",
   "execution_count": 30,
   "metadata": {},
   "outputs": [
    {
     "name": "stdout",
     "output_type": "stream",
     "text": [
      "reconstruction/tetris_piano_mono_128iter_comp1of48_V.matreconstruction/tetris_piano_mono_128iter_comp25of48_V.mat"
     ]
    }
   ],
   "source": [
    "for i_comp = 1:length(comp_list), i_iter = 1:length(iter_list)\n",
    "    num_components = comp_list[i_comp]; \n",
    "    num_iterations = iter_list[i_iter];\n",
    "    for comp = [1:24,25:48]\n",
    "        output_filename = string(\"reconstruction/\",splitdir(filename)[2][1:end-6],\"_\",num_iterations,\"iter_comp\", comp[1], \"of\",num_components,\"_V.mat\");\n",
    "        save_reconstructed_V(W[i_comp,i_iter],H[i_comp,i_iter],comp,output_filename,cfs_filename)\n",
    "        print(output_filename)\n",
    "    end\n",
    "end"
   ]
  }
 ],
 "metadata": {
  "kernelspec": {
   "display_name": "Julia 1.1.0",
   "language": "julia",
   "name": "julia-1.1"
  },
  "language_info": {
   "file_extension": ".jl",
   "mimetype": "application/julia",
   "name": "julia",
   "version": "1.1.0"
  }
 },
 "nbformat": 4,
 "nbformat_minor": 2
}
